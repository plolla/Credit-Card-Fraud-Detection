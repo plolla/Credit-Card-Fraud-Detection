{
 "cells": [
  {
   "cell_type": "markdown",
   "metadata": {},
   "source": [
    "# Credit Card Fraud Detection with Deep Neural Networks"
   ]
  },
  {
   "cell_type": "markdown",
   "metadata": {},
   "source": [
    "## Load Data"
   ]
  },
  {
   "cell_type": "code",
   "execution_count": 1,
   "metadata": {},
   "outputs": [],
   "source": [
    "#Import relevant dependencies\n",
    "import numpy as np\n",
    "import pandas as pd\n",
    "import tensorflow as tf\n",
    "from sklearn import preprocessing as pp\n",
    "\n",
    "#Loading data into a numpy array\n",
    "raw_data = np.loadtxt('creditcard.csv', delimiter = ',')\n",
    "\n",
    "#Excludes the targets\n",
    "unscaled_inputs_all = raw_data[:,:-1]\n",
    "\n",
    "#Last column stores the targets\n",
    "targets_all = raw_data[:,-1]"
   ]
  },
  {
   "cell_type": "markdown",
   "metadata": {},
   "source": [
    "## Balance the Dataset"
   ]
  },
  {
   "cell_type": "code",
   "execution_count": 2,
   "metadata": {},
   "outputs": [
    {
     "data": {
      "text/plain": [
       "984"
      ]
     },
     "execution_count": 2,
     "metadata": {},
     "output_type": "execute_result"
    }
   ],
   "source": [
    "#Targets are binary (1 or 0) so getting the sum of all target values is equivalent to how many 1s are in the dataset\n",
    "num_one_targets = int(np.sum(targets_all))\n",
    "\n",
    "#Our zero target counter\n",
    "num_zero_targets = 0\n",
    "\n",
    "#Once we have an equal amount of 0s and 1s we need to remove all the other data points and we will store the indices to be removed in a list\n",
    "indices_to_remove = []\n",
    "\n",
    "#Iterating through our dataset to load our indices_to_remove list\n",
    "for i in range(targets_all.shape[0]):\n",
    "    if targets_all[i] == 0.:\n",
    "        num_zero_targets += 1.\n",
    "        if num_zero_targets > num_one_targets:\n",
    "            indices_to_remove.append(i)  \n",
    "\n",
    "#Storing the new balanced inputs and targets by removing all the unnecessary datapoints\n",
    "unscaled_inputs_equal_priors = np.delete(unscaled_inputs_all, indices_to_remove, axis = 0)\n",
    "targets_equal_priors = np.delete(targets_all, indices_to_remove, axis = 0)\n",
    "unscaled_inputs_equal_priors.shape[0]"
   ]
  },
  {
   "cell_type": "markdown",
   "metadata": {},
   "source": [
    "## Standardize Inputs"
   ]
  },
  {
   "cell_type": "code",
   "execution_count": 3,
   "metadata": {},
   "outputs": [],
   "source": [
    "#Standardizes the inputs for more accuracy\n",
    "scaled_inputs = pp.scale(unscaled_inputs_equal_priors)"
   ]
  },
  {
   "cell_type": "markdown",
   "metadata": {},
   "source": [
    "## Shuffle the Data"
   ]
  },
  {
   "cell_type": "code",
   "execution_count": 4,
   "metadata": {},
   "outputs": [],
   "source": [
    "#np.arange([start], stop) returns evenly spaced values in a given interval\n",
    "shuffled_indices = np.arange(scaled_inputs.shape[0])\n",
    "#np.random.shuffle(X) is a method that shuffles numbers in a given sequence\n",
    "np.random.shuffle(shuffled_indices)\n",
    "\n",
    "#Storing the new shuffled inputs and targets\n",
    "shuffled_inputs = scaled_inputs[shuffled_indices]\n",
    "shuffled_targets = targets_equal_priors[shuffled_indices]"
   ]
  },
  {
   "cell_type": "markdown",
   "metadata": {},
   "source": [
    "## Split Data into Train, Validation, Test Subsets"
   ]
  },
  {
   "cell_type": "code",
   "execution_count": 5,
   "metadata": {},
   "outputs": [
    {
     "name": "stdout",
     "output_type": "stream",
     "text": [
      "396.0 787 0.5031766200762389\n",
      "45.0 98 0.45918367346938777\n",
      "51.0 98 0.5204081632653061\n"
     ]
    }
   ],
   "source": [
    "#Count of all data points\n",
    "samples_count = shuffled_inputs.shape[0]\n",
    "\n",
    "#Storing the count of data points in each subset\n",
    "train_samples_count = int(0.8*samples_count)\n",
    "validation_samples_count = int(0.1*samples_count)\n",
    "test_samples_count = int(0.1*samples_count)\n",
    "\n",
    "train_inputs = shuffled_inputs[: train_samples_count]\n",
    "train_targets = shuffled_targets[: train_samples_count]\n",
    "\n",
    "validation_inputs = shuffled_inputs[train_samples_count : train_samples_count + validation_samples_count]\n",
    "validation_targets = shuffled_targets[train_samples_count : train_samples_count + validation_samples_count]\n",
    "\n",
    "test_inputs = shuffled_inputs[train_samples_count + validation_samples_count:]\n",
    "test_targets = shuffled_targets[train_samples_count + validation_samples_count:]\n",
    "\n",
    "#Shows how balanced the datasets are\n",
    "print(np.sum(train_targets), train_samples_count, np.sum(train_targets)/train_samples_count)\n",
    "print(np.sum(validation_targets), validation_samples_count, np.sum(validation_targets)/validation_samples_count)\n",
    "print(np.sum(test_targets), test_samples_count, np.sum(test_targets)/test_samples_count)"
   ]
  },
  {
   "cell_type": "code",
   "execution_count": 6,
   "metadata": {},
   "outputs": [],
   "source": [
    "np.savez('audiobooks_data_train', inputs = train_inputs, targets = train_targets)\n",
    "np.savez('audiobooks_data_test', inputs = test_inputs, targets = test_targets)"
   ]
  },
  {
   "cell_type": "markdown",
   "metadata": {},
   "source": [
    "## Loading the .npz Files"
   ]
  },
  {
   "cell_type": "code",
   "execution_count": 7,
   "metadata": {},
   "outputs": [],
   "source": [
    "#Loading the data from the npz files\n",
    "#We need to load the inputs and targets into their dedicated arrays\n",
    "npz = np.load('audiobooks_data_train.npz')\n",
    "\n",
    "train_inputs = npz['inputs']\n",
    "train_targets = npz['targets']\n",
    "\n",
    "npz = np.load('audiobooks_data_test.npz')\n",
    "\n",
    "test_inputs = npz['inputs']\n",
    "test_targets = npz['targets']"
   ]
  },
  {
   "cell_type": "markdown",
   "metadata": {},
   "source": [
    "## Model"
   ]
  },
  {
   "cell_type": "code",
   "execution_count": 8,
   "metadata": {
    "scrolled": false
   },
   "outputs": [
    {
     "name": "stdout",
     "output_type": "stream",
     "text": [
      "Epoch 1/50\n",
      "79/79 - 0s - loss: 0.2053 - accuracy: 0.9314 - val_loss: 0.0843 - val_accuracy: 0.9694\n",
      "Epoch 2/50\n",
      "79/79 - 0s - loss: 0.0517 - accuracy: 0.9822 - val_loss: 0.0437 - val_accuracy: 0.9694\n",
      "Epoch 3/50\n",
      "79/79 - 0s - loss: 0.0208 - accuracy: 0.9962 - val_loss: 0.0220 - val_accuracy: 1.0000\n",
      "Epoch 4/50\n",
      "79/79 - 0s - loss: 0.0113 - accuracy: 0.9987 - val_loss: 0.0144 - val_accuracy: 1.0000\n",
      "Epoch 5/50\n",
      "79/79 - 0s - loss: 0.0057 - accuracy: 1.0000 - val_loss: 0.0086 - val_accuracy: 1.0000\n",
      "Epoch 6/50\n",
      "79/79 - 0s - loss: 0.0035 - accuracy: 1.0000 - val_loss: 0.0066 - val_accuracy: 1.0000\n",
      "Epoch 7/50\n",
      "79/79 - 0s - loss: 0.0020 - accuracy: 1.0000 - val_loss: 0.0055 - val_accuracy: 1.0000\n",
      "Epoch 8/50\n",
      "79/79 - 0s - loss: 0.0013 - accuracy: 1.0000 - val_loss: 0.0057 - val_accuracy: 1.0000\n",
      "Epoch 9/50\n",
      "79/79 - 0s - loss: 0.0012 - accuracy: 1.0000 - val_loss: 0.0039 - val_accuracy: 1.0000\n",
      "Epoch 10/50\n",
      "79/79 - 0s - loss: 8.0857e-04 - accuracy: 1.0000 - val_loss: 0.0033 - val_accuracy: 1.0000\n",
      "Epoch 11/50\n",
      "79/79 - 0s - loss: 6.0115e-04 - accuracy: 1.0000 - val_loss: 0.0031 - val_accuracy: 1.0000\n",
      "Epoch 12/50\n",
      "79/79 - 0s - loss: 4.9539e-04 - accuracy: 1.0000 - val_loss: 0.0025 - val_accuracy: 1.0000\n",
      "Epoch 13/50\n",
      "79/79 - 0s - loss: 4.1687e-04 - accuracy: 1.0000 - val_loss: 0.0022 - val_accuracy: 1.0000\n",
      "Epoch 14/50\n",
      "79/79 - 0s - loss: 3.4262e-04 - accuracy: 1.0000 - val_loss: 0.0023 - val_accuracy: 1.0000\n",
      "Epoch 15/50\n",
      "79/79 - 0s - loss: 2.8731e-04 - accuracy: 1.0000 - val_loss: 0.0020 - val_accuracy: 1.0000\n",
      "Epoch 16/50\n",
      "79/79 - 0s - loss: 2.4626e-04 - accuracy: 1.0000 - val_loss: 0.0019 - val_accuracy: 1.0000\n",
      "Epoch 17/50\n",
      "79/79 - 0s - loss: 2.1501e-04 - accuracy: 1.0000 - val_loss: 0.0017 - val_accuracy: 1.0000\n",
      "Epoch 18/50\n",
      "79/79 - 0s - loss: 1.8405e-04 - accuracy: 1.0000 - val_loss: 0.0016 - val_accuracy: 1.0000\n",
      "Epoch 19/50\n",
      "79/79 - 0s - loss: 1.5935e-04 - accuracy: 1.0000 - val_loss: 0.0016 - val_accuracy: 1.0000\n",
      "Epoch 20/50\n",
      "79/79 - 0s - loss: 1.4007e-04 - accuracy: 1.0000 - val_loss: 0.0015 - val_accuracy: 1.0000\n",
      "Epoch 21/50\n",
      "79/79 - 0s - loss: 1.2314e-04 - accuracy: 1.0000 - val_loss: 0.0014 - val_accuracy: 1.0000\n",
      "Epoch 22/50\n",
      "79/79 - 0s - loss: 1.1051e-04 - accuracy: 1.0000 - val_loss: 0.0013 - val_accuracy: 1.0000\n",
      "Epoch 23/50\n",
      "79/79 - 0s - loss: 1.0237e-04 - accuracy: 1.0000 - val_loss: 0.0013 - val_accuracy: 1.0000\n",
      "Epoch 24/50\n",
      "79/79 - 0s - loss: 9.0578e-05 - accuracy: 1.0000 - val_loss: 0.0013 - val_accuracy: 1.0000\n",
      "Epoch 25/50\n",
      "79/79 - 0s - loss: 7.9471e-05 - accuracy: 1.0000 - val_loss: 0.0012 - val_accuracy: 1.0000\n",
      "Epoch 26/50\n",
      "79/79 - 0s - loss: 7.3101e-05 - accuracy: 1.0000 - val_loss: 0.0012 - val_accuracy: 1.0000\n",
      "Epoch 27/50\n",
      "79/79 - 0s - loss: 6.6447e-05 - accuracy: 1.0000 - val_loss: 0.0012 - val_accuracy: 1.0000\n",
      "Epoch 28/50\n",
      "79/79 - 0s - loss: 6.0391e-05 - accuracy: 1.0000 - val_loss: 0.0011 - val_accuracy: 1.0000\n",
      "Epoch 29/50\n",
      "79/79 - 0s - loss: 5.4805e-05 - accuracy: 1.0000 - val_loss: 0.0011 - val_accuracy: 1.0000\n",
      "Epoch 30/50\n",
      "79/79 - 0s - loss: 5.0789e-05 - accuracy: 1.0000 - val_loss: 0.0010 - val_accuracy: 1.0000\n",
      "Epoch 31/50\n",
      "79/79 - 0s - loss: 4.6401e-05 - accuracy: 1.0000 - val_loss: 0.0010 - val_accuracy: 1.0000\n",
      "Epoch 32/50\n",
      "79/79 - 0s - loss: 4.2628e-05 - accuracy: 1.0000 - val_loss: 9.4190e-04 - val_accuracy: 1.0000\n",
      "Epoch 33/50\n",
      "79/79 - 0s - loss: 3.9750e-05 - accuracy: 1.0000 - val_loss: 9.0127e-04 - val_accuracy: 1.0000\n",
      "Epoch 34/50\n",
      "79/79 - 0s - loss: 3.7255e-05 - accuracy: 1.0000 - val_loss: 8.6176e-04 - val_accuracy: 1.0000\n",
      "Epoch 35/50\n",
      "79/79 - 0s - loss: 3.3761e-05 - accuracy: 1.0000 - val_loss: 9.0211e-04 - val_accuracy: 1.0000\n",
      "Epoch 36/50\n",
      "79/79 - 0s - loss: 3.1319e-05 - accuracy: 1.0000 - val_loss: 8.8797e-04 - val_accuracy: 1.0000\n"
     ]
    },
    {
     "data": {
      "text/plain": [
       "<tensorflow.python.keras.callbacks.History at 0x1a3a72b490>"
      ]
     },
     "execution_count": 8,
     "metadata": {},
     "output_type": "execute_result"
    }
   ],
   "source": [
    "input_layer_size = 30\n",
    "hidden_layer_size = 100\n",
    "output_layer_size = 2\n",
    "\n",
    "#Outlining the model similar to MNIST\n",
    "model = tf.keras.Sequential([\n",
    "    tf.keras.layers.Dense(hidden_layer_size, activation = 'relu'),\n",
    "    tf.keras.layers.Dense(hidden_layer_size, activation = 'relu'),\n",
    "    tf.keras.layers.Dense(output_layer_size, activation = 'softmax')\n",
    "])\n",
    "\n",
    "#Choose the optimizer and loss function\n",
    "model.compile(optimizer = 'adam', loss = 'sparse_categorical_crossentropy', metrics = ['accuracy'])\n",
    "\n",
    "BATCH_SIZE = 10\n",
    "NUM_OF_EPOCHS = \n",
    "\n",
    "early_stopping = tf.keras.callbacks.EarlyStopping(patience = 2)\n",
    "\n",
    "model.fit(train_inputs,\n",
    "         train_targets,\n",
    "         batch_size = BATCH_SIZE,\n",
    "         epochs = NUM_OF_EPOCHS, \n",
    "         callbacks = [early_stopping],\n",
    "         validation_data = (validation_inputs,\n",
    "                           validation_targets),\n",
    "         verbose = 2)"
   ]
  },
  {
   "cell_type": "code",
   "execution_count": 9,
   "metadata": {},
   "outputs": [
    {
     "name": "stdout",
     "output_type": "stream",
     "text": [
      "4/4 [==============================] - 0s 673us/step - loss: 0.0294 - accuracy: 0.9798\n"
     ]
    }
   ],
   "source": [
    "test_loss, test_accuracy = model.evaluate(test_inputs, test_targets)"
   ]
  },
  {
   "cell_type": "code",
   "execution_count": 10,
   "metadata": {},
   "outputs": [
    {
     "name": "stdout",
     "output_type": "stream",
     "text": [
      "Test Loss: 0.03. Test Accuracy: 97.98%\n"
     ]
    }
   ],
   "source": [
    "print('Test Loss: {0:.2f}. Test Accuracy: {1:.2f}%'.format(test_loss, test_accuracy*100.))"
   ]
  },
  {
   "cell_type": "markdown",
   "metadata": {},
   "source": [
    "It's not good practice to create a seperate validation subset for such a small dataset. Better to use KFold cross validation. "
   ]
  }
 ],
 "metadata": {
  "kernelspec": {
   "display_name": "Python [conda env:py3-TF2.0]",
   "language": "python",
   "name": "conda-env-py3-TF2.0-py"
  },
  "language_info": {
   "codemirror_mode": {
    "name": "ipython",
    "version": 3
   },
   "file_extension": ".py",
   "mimetype": "text/x-python",
   "name": "python",
   "nbconvert_exporter": "python",
   "pygments_lexer": "ipython3",
   "version": "3.7.7"
  }
 },
 "nbformat": 4,
 "nbformat_minor": 2
}
