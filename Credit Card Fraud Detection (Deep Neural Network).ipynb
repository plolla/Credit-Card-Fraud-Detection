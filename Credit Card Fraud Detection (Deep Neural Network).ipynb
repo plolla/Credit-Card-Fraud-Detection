{
 "cells": [
  {
   "cell_type": "markdown",
   "metadata": {},
   "source": [
    "# Credit Card Fraud Detection using a Deep Neural Network"
   ]
  },
  {
   "cell_type": "markdown",
   "metadata": {},
   "source": [
    "For more information on the dataset look at the other file, if you havent already."
   ]
  },
  {
   "cell_type": "markdown",
   "metadata": {},
   "source": [
    "## Load Data"
   ]
  },
  {
   "cell_type": "code",
   "execution_count": 1,
   "metadata": {},
   "outputs": [],
   "source": [
    "#Import relevant dependencies\n",
    "import numpy as np\n",
    "import pandas as pd\n",
    "import tensorflow as tf\n",
    "from sklearn import preprocessing as pp\n",
    "\n",
    "#Loading data into a numpy array\n",
    "raw_data = np.loadtxt('creditcard.csv', delimiter = ',')\n",
    "\n",
    "#Excludes the targets\n",
    "unscaled_inputs_all = raw_data[:,:-1]\n",
    "\n",
    "#Last column stores the targets\n",
    "targets_all = raw_data[:,-1]"
   ]
  },
  {
   "cell_type": "markdown",
   "metadata": {},
   "source": [
    "## Balance the Dataset"
   ]
  },
  {
   "cell_type": "code",
   "execution_count": 2,
   "metadata": {},
   "outputs": [],
   "source": [
    "#Targets are binary (1 or 0) so getting the sum of all target values is equivalent to how many 1s are in the dataset\n",
    "num_one_targets = int(np.sum(targets_all))\n",
    "\n",
    "#Our zero target counter\n",
    "num_zero_targets = 0\n",
    "\n",
    "#Once we have an equal amount of 0s and 1s we need to remove all the other data points and we will store the indices to be removed in a list\n",
    "indices_to_remove = []\n",
    "\n",
    "#Iterating through our dataset to load our indices_to_remove list\n",
    "for i in range(targets_all.shape[0]):\n",
    "    if targets_all[i] == 0.:\n",
    "        num_zero_targets += 1.\n",
    "        if num_zero_targets > num_one_targets:\n",
    "            indices_to_remove.append(i)  \n",
    "\n",
    "#Storing the new balanced inputs and targets by removing all the unnecessary datapoints\n",
    "unscaled_inputs_equal_priors = np.delete(unscaled_inputs_all, indices_to_remove, axis = 0)\n",
    "targets_equal_priors = np.delete(targets_all, indices_to_remove, axis = 0)"
   ]
  },
  {
   "cell_type": "markdown",
   "metadata": {},
   "source": [
    "## Standardize Inputs"
   ]
  },
  {
   "cell_type": "code",
   "execution_count": 3,
   "metadata": {},
   "outputs": [],
   "source": [
    "#Standardizes the inputs for more accuracy\n",
    "scaled_inputs = pp.scale(unscaled_inputs_equal_priors)"
   ]
  },
  {
   "cell_type": "markdown",
   "metadata": {},
   "source": [
    "## Shuffle the Data"
   ]
  },
  {
   "cell_type": "code",
   "execution_count": 4,
   "metadata": {},
   "outputs": [],
   "source": [
    "#np.arange([start], stop) returns evenly spaced values in a given interval\n",
    "shuffled_indices = np.arange(scaled_inputs.shape[0])\n",
    "#np.random.shuffle(X) is a method that shuffles numbers in a given sequence\n",
    "np.random.shuffle(shuffled_indices)\n",
    "\n",
    "#Storing the new shuffled inputs and targets\n",
    "shuffled_inputs = scaled_inputs[shuffled_indices]\n",
    "shuffled_targets = targets_equal_priors[shuffled_indices]"
   ]
  },
  {
   "cell_type": "markdown",
   "metadata": {},
   "source": [
    "## Split Data into Train, Test Subsets"
   ]
  },
  {
   "cell_type": "code",
   "execution_count": 5,
   "metadata": {},
   "outputs": [
    {
     "name": "stdout",
     "output_type": "stream",
     "text": [
      "386.0 787 0.49047013977128334\n",
      "106.0 196 0.5408163265306123\n"
     ]
    }
   ],
   "source": [
    "#Count of all data points\n",
    "samples_count = shuffled_inputs.shape[0]\n",
    "\n",
    "#Storing the count of data points in each subset\n",
    "train_samples_count = int(0.8*samples_count)\n",
    "test_samples_count = int(0.2*samples_count)\n",
    "\n",
    "train_inputs = shuffled_inputs[: train_samples_count]\n",
    "train_targets = shuffled_targets[: train_samples_count]\n",
    "\n",
    "\n",
    "test_inputs = shuffled_inputs[train_samples_count:]\n",
    "test_targets = shuffled_targets[train_samples_count:]\n",
    "\n",
    "#Shows how balanced the datasets are\n",
    "print(np.sum(train_targets), train_samples_count, np.sum(train_targets)/train_samples_count)\n",
    "print(np.sum(test_targets), test_samples_count, np.sum(test_targets)/test_samples_count)"
   ]
  },
  {
   "cell_type": "code",
   "execution_count": 6,
   "metadata": {},
   "outputs": [],
   "source": [
    "np.savez('audiobooks_data_train', inputs = train_inputs, targets = train_targets)\n",
    "np.savez('audiobooks_data_test', inputs = test_inputs, targets = test_targets)"
   ]
  },
  {
   "cell_type": "markdown",
   "metadata": {},
   "source": [
    "## Loading the .npz Files"
   ]
  },
  {
   "cell_type": "code",
   "execution_count": 7,
   "metadata": {},
   "outputs": [],
   "source": [
    "#Loading the data from the npz files\n",
    "#We need to load the inputs and targets into their dedicated arrays\n",
    "npz = np.load('audiobooks_data_train.npz')\n",
    "\n",
    "train_inputs = npz['inputs']\n",
    "train_targets = npz['targets']\n",
    "\n",
    "npz = np.load('audiobooks_data_validation.npz')\n",
    "\n",
    "valid_inputs = npz['inputs']\n",
    "valid_targets = npz['targets']\n",
    "\n",
    "npz = np.load('audiobooks_data_test.npz')\n",
    "\n",
    "test_inputs = npz['inputs']\n",
    "test_targets = npz['targets']"
   ]
  },
  {
   "cell_type": "markdown",
   "metadata": {},
   "source": [
    "## Model"
   ]
  },
  {
   "cell_type": "code",
   "execution_count": 28,
   "metadata": {
    "scrolled": false
   },
   "outputs": [
    {
     "name": "stdout",
     "output_type": "stream",
     "text": [
      "Epoch 1/10\n",
      "WARNING:tensorflow:Layer dense_8 is casting an input tensor from dtype float64 to the layer's dtype of float32, which is new behavior in TensorFlow 2.  The layer has dtype float32 because it's dtype defaults to floatx.\n",
      "\n",
      "If you intended to run this layer in float32, you can safely ignore this warning. If in doubt, this warning is likely only an issue if you are porting a TensorFlow 1.X model to TensorFlow 2.\n",
      "\n",
      "To change all layers to have dtype float64 by default, call `tf.keras.backend.set_floatx('float64')`. To change just this layer, pass dtype='float64' to the layer constructor. If you are the author of this layer, you can disable autocasting by passing autocast=False to the base Layer constructor.\n",
      "\n",
      "142/142 - 0s - loss: 0.1475 - accuracy: 0.9350 - val_loss: 0.0787 - val_accuracy: 0.9620\n",
      "Epoch 2/10\n",
      "142/142 - 0s - loss: 0.0482 - accuracy: 0.9873 - val_loss: 0.1159 - val_accuracy: 0.9620\n",
      "Epoch 3/10\n",
      "142/142 - 0s - loss: 0.0190 - accuracy: 0.9972 - val_loss: 0.0140 - val_accuracy: 1.0000\n",
      "Epoch 4/10\n",
      "142/142 - 0s - loss: 0.0107 - accuracy: 0.9986 - val_loss: 0.0127 - val_accuracy: 1.0000\n",
      "Epoch 5/10\n",
      "142/142 - 0s - loss: 0.0042 - accuracy: 0.9986 - val_loss: 0.0110 - val_accuracy: 1.0000\n",
      "Epoch 6/10\n",
      "142/142 - 0s - loss: 7.5018e-04 - accuracy: 1.0000 - val_loss: 0.0057 - val_accuracy: 1.0000\n",
      "Epoch 7/10\n",
      "142/142 - 0s - loss: 3.7697e-04 - accuracy: 1.0000 - val_loss: 0.0106 - val_accuracy: 1.0000\n",
      "Epoch 8/10\n",
      "142/142 - 0s - loss: 2.4259e-04 - accuracy: 1.0000 - val_loss: 0.0072 - val_accuracy: 1.0000\n"
     ]
    },
    {
     "data": {
      "text/plain": [
       "<tensorflow.python.keras.callbacks.History at 0x1a37b52390>"
      ]
     },
     "execution_count": 28,
     "metadata": {},
     "output_type": "execute_result"
    }
   ],
   "source": [
    "input_layer_size = 30\n",
    "hidden_layer_size = 100\n",
    "output_layer_size = 2\n",
    "\n",
    "#Outlining the model similar to MNIST\n",
    "model = tf.keras.Sequential([\n",
    "    tf.keras.layers.Dense(hidden_layer_size, activation = 'relu'),\n",
    "    tf.keras.layers.Dense(hidden_layer_size, activation = 'relu'),\n",
    "    tf.keras.layers.Dense(hidden_layer_size, activation = 'relu'),\n",
    "    tf.keras.layers.Dense(output_layer_size, activation = 'softmax')\n",
    "])\n",
    "\n",
    "#Choose the optimizer and loss function\n",
    "model.compile(optimizer = 'adam', loss = 'sparse_categorical_crossentropy', metrics = ['accuracy'])\n",
    "\n",
    "BATCH_SIZE = 5\n",
    "NUM_OF_EPOCHS = 10\n",
    "\n",
    "early_stopping = tf.keras.callbacks.EarlyStopping(patience = 2)\n",
    "\n",
    "model.fit(train_inputs,\n",
    "         train_targets,\n",
    "         batch_size = BATCH_SIZE,\n",
    "         epochs = NUM_OF_EPOCHS, \n",
    "         callbacks = [early_stopping],\n",
    "         validation_split = 0.1,\n",
    "         verbose = 2)"
   ]
  },
  {
   "cell_type": "code",
   "execution_count": 29,
   "metadata": {
    "scrolled": true
   },
   "outputs": [
    {
     "name": "stdout",
     "output_type": "stream",
     "text": [
      "7/7 [==============================] - 0s 1ms/step - loss: 0.0641 - accuracy: 0.9898\n"
     ]
    },
    {
     "data": {
      "text/plain": [
       "[0.06408549100160599, 0.989847719669342]"
      ]
     },
     "execution_count": 29,
     "metadata": {},
     "output_type": "execute_result"
    }
   ],
   "source": [
    "model.evaluate(test_inputs, test_targets)"
   ]
  },
  {
   "cell_type": "markdown",
   "metadata": {},
   "source": [
    "Test Accuracy is 98.98% with the balanced dataset."
   ]
  }
 ],
 "metadata": {
  "kernelspec": {
   "display_name": "Python [conda env:py3-TF2.0]",
   "language": "python",
   "name": "conda-env-py3-TF2.0-py"
  },
  "language_info": {
   "codemirror_mode": {
    "name": "ipython",
    "version": 3
   },
   "file_extension": ".py",
   "mimetype": "text/x-python",
   "name": "python",
   "nbconvert_exporter": "python",
   "pygments_lexer": "ipython3",
   "version": "3.7.7"
  }
 },
 "nbformat": 4,
 "nbformat_minor": 2
}
