{
 "cells": [
  {
   "cell_type": "markdown",
   "metadata": {},
   "source": [
    "# Credit Card Fraud Detection using a Deep Neural Network"
   ]
  },
  {
   "cell_type": "markdown",
   "metadata": {},
   "source": [
    "For more information on the dataset look at the other file, if you havent already."
   ]
  },
  {
   "cell_type": "markdown",
   "metadata": {},
   "source": [
    "## Load Data"
   ]
  },
  {
   "cell_type": "code",
   "execution_count": 1,
   "metadata": {},
   "outputs": [],
   "source": [
    "#Import relevant dependencies\n",
    "import numpy as np\n",
    "import pandas as pd\n",
    "import tensorflow as tf\n",
    "from sklearn import preprocessing as pp\n",
    "\n",
    "#Loading data into a numpy array\n",
    "raw_data = np.loadtxt('creditcard.csv', delimiter = ',')\n",
    "\n",
    "#Excludes the targets\n",
    "unscaled_inputs_all = raw_data[:,:-1]\n",
    "\n",
    "#Last column stores the targets\n",
    "targets_all = raw_data[:,-1]"
   ]
  },
  {
   "cell_type": "markdown",
   "metadata": {},
   "source": [
    "## Balance the Dataset"
   ]
  },
  {
   "cell_type": "code",
   "execution_count": 2,
   "metadata": {},
   "outputs": [],
   "source": [
    "#Targets are binary (1 or 0) so getting the sum of all target values is equivalent to how many 1s are in the dataset\n",
    "num_one_targets = int(np.sum(targets_all))\n",
    "\n",
    "#Our zero target counter\n",
    "num_zero_targets = 0\n",
    "\n",
    "#Once we have an equal amount of 0s and 1s we need to remove all the other data points and we will store the indices to be removed in a list\n",
    "indices_to_remove = []\n",
    "\n",
    "#Iterating through our dataset to load our indices_to_remove list\n",
    "for i in range(targets_all.shape[0]):\n",
    "    if targets_all[i] == 0.:\n",
    "        num_zero_targets += 1.\n",
    "        if num_zero_targets > num_one_targets:\n",
    "            indices_to_remove.append(i)  \n",
    "\n",
    "#Storing the new balanced inputs and targets by removing all the unnecessary datapoints\n",
    "unscaled_inputs_equal_priors = np.delete(unscaled_inputs_all, indices_to_remove, axis = 0)\n",
    "targets_equal_priors = np.delete(targets_all, indices_to_remove, axis = 0)"
   ]
  },
  {
   "cell_type": "markdown",
   "metadata": {},
   "source": [
    "## Standardize Inputs"
   ]
  },
  {
   "cell_type": "code",
   "execution_count": 3,
   "metadata": {},
   "outputs": [],
   "source": [
    "#Standardizes the inputs for more accuracy\n",
    "scaled_inputs = pp.scale(unscaled_inputs_equal_priors)"
   ]
  },
  {
   "cell_type": "markdown",
   "metadata": {},
   "source": [
    "## Shuffle the Data"
   ]
  },
  {
   "cell_type": "code",
   "execution_count": 4,
   "metadata": {},
   "outputs": [],
   "source": [
    "#np.arange([start], stop) returns evenly spaced values in a given interval\n",
    "shuffled_indices = np.arange(scaled_inputs.shape[0])\n",
    "#np.random.shuffle(X) is a method that shuffles numbers in a given sequence\n",
    "np.random.shuffle(shuffled_indices)\n",
    "\n",
    "#Storing the new shuffled inputs and targets\n",
    "shuffled_inputs = scaled_inputs[shuffled_indices]\n",
    "shuffled_targets = targets_equal_priors[shuffled_indices]"
   ]
  },
  {
   "cell_type": "markdown",
   "metadata": {},
   "source": [
    "## Split Data into Train, Test Subsets"
   ]
  },
  {
   "cell_type": "code",
   "execution_count": 6,
   "metadata": {},
   "outputs": [
    {
     "name": "stdout",
     "output_type": "stream",
     "text": [
      "398.0 787 0.5057179161372299\n",
      "94.0 196 0.47959183673469385\n"
     ]
    }
   ],
   "source": [
    "#Count of all data points\n",
    "samples_count = shuffled_inputs.shape[0]\n",
    "\n",
    "#Storing the count of data points in each subset\n",
    "train_samples_count = int(0.8*samples_count)\n",
    "test_samples_count = int(0.2*samples_count)\n",
    "\n",
    "train_inputs = shuffled_inputs[: train_samples_count]\n",
    "train_targets = shuffled_targets[: train_samples_count]\n",
    "\n",
    "test_inputs = shuffled_inputs[train_samples_count:]\n",
    "test_targets = shuffled_targets[train_samples_count:]\n",
    "\n",
    "#Shows how balanced the datasets are\n",
    "print(np.sum(train_targets), train_samples_count, np.sum(train_targets)/train_samples_count)\n",
    "print(np.sum(test_targets), test_samples_count, np.sum(test_targets)/test_samples_count)"
   ]
  },
  {
   "cell_type": "code",
   "execution_count": 7,
   "metadata": {},
   "outputs": [],
   "source": [
    "np.savez('audiobooks_data_train', inputs = train_inputs, targets = train_targets)\n",
    "np.savez('audiobooks_data_test', inputs = test_inputs, targets = test_targets)"
   ]
  },
  {
   "cell_type": "markdown",
   "metadata": {},
   "source": [
    "## Loading the .npz Files"
   ]
  },
  {
   "cell_type": "code",
   "execution_count": 8,
   "metadata": {},
   "outputs": [],
   "source": [
    "#Loading the data from the npz files\n",
    "#We need to load the inputs and targets into their dedicated arrays\n",
    "npz = np.load('audiobooks_data_train.npz')\n",
    "\n",
    "train_inputs = npz['inputs']\n",
    "train_targets = npz['targets']\n",
    "\n",
    "npz = np.load('audiobooks_data_test.npz')\n",
    "\n",
    "test_inputs = npz['inputs']\n",
    "test_targets = npz['targets']"
   ]
  },
  {
   "cell_type": "markdown",
   "metadata": {},
   "source": [
    "## Model"
   ]
  },
  {
   "cell_type": "code",
   "execution_count": 12,
   "metadata": {
    "scrolled": false
   },
   "outputs": [
    {
     "name": "stdout",
     "output_type": "stream",
     "text": [
      "Epoch 1/10\n",
      "79/79 - 0s - loss: 0.2055 - accuracy: 0.9403 - val_loss: 0.0532 - val_accuracy: 0.9898\n",
      "Epoch 2/10\n",
      "79/79 - 0s - loss: 0.0412 - accuracy: 0.9898 - val_loss: 0.0197 - val_accuracy: 0.9949\n",
      "Epoch 3/10\n",
      "79/79 - 0s - loss: 0.0334 - accuracy: 0.9886 - val_loss: 0.0170 - val_accuracy: 0.9949\n",
      "Epoch 4/10\n",
      "79/79 - 0s - loss: 0.0082 - accuracy: 0.9975 - val_loss: 0.0144 - val_accuracy: 0.9898\n",
      "Epoch 5/10\n",
      "79/79 - 0s - loss: 0.0027 - accuracy: 1.0000 - val_loss: 0.0091 - val_accuracy: 0.9949\n",
      "Epoch 6/10\n",
      "79/79 - 0s - loss: 0.0014 - accuracy: 1.0000 - val_loss: 0.0106 - val_accuracy: 0.9898\n",
      "Epoch 7/10\n",
      "79/79 - 0s - loss: 9.8393e-04 - accuracy: 1.0000 - val_loss: 0.0080 - val_accuracy: 0.9949\n",
      "Epoch 8/10\n",
      "79/79 - 0s - loss: 6.1039e-04 - accuracy: 1.0000 - val_loss: 0.0083 - val_accuracy: 0.9949\n",
      "Epoch 9/10\n",
      "79/79 - 0s - loss: 4.6245e-04 - accuracy: 1.0000 - val_loss: 0.0075 - val_accuracy: 0.9949\n",
      "Epoch 10/10\n",
      "79/79 - 0s - loss: 3.3040e-04 - accuracy: 1.0000 - val_loss: 0.0075 - val_accuracy: 0.9949\n"
     ]
    },
    {
     "data": {
      "text/plain": [
       "<tensorflow.python.keras.callbacks.History at 0x1a41a6c0d0>"
      ]
     },
     "execution_count": 12,
     "metadata": {},
     "output_type": "execute_result"
    }
   ],
   "source": [
    "input_layer_size = 30\n",
    "hidden_layer_size = 100\n",
    "output_layer_size = 2\n",
    "\n",
    "#Outlining the model similar to MNIST\n",
    "model = tf.keras.Sequential([\n",
    "    tf.keras.layers.Dense(hidden_layer_size, activation = 'relu'),\n",
    "    tf.keras.layers.Dense(hidden_layer_size, activation = 'relu'),\n",
    "    tf.keras.layers.Dense(hidden_layer_size, activation = 'relu'),\n",
    "    tf.keras.layers.Dense(output_layer_size, activation = 'softmax')\n",
    "])\n",
    "\n",
    "#Choose the optimizer and loss function\n",
    "model.compile(optimizer = 'adam', loss = 'sparse_categorical_crossentropy', metrics = ['accuracy'])\n",
    "\n",
    "BATCH_SIZE = 10\n",
    "NUM_OF_EPOCHS = 10\n",
    "\n",
    "early_stopping = tf.keras.callbacks.EarlyStopping(patience = 2)\n",
    "\n",
    "model.fit(train_inputs,\n",
    "         train_targets,\n",
    "         batch_size = BATCH_SIZE,\n",
    "         epochs = NUM_OF_EPOCHS, \n",
    "         callbacks = [early_stopping],\n",
    "         validation_data = (test_inputs,\n",
    "                           test_targets),\n",
    "         verbose = 2)"
   ]
  },
  {
   "cell_type": "code",
   "execution_count": 13,
   "metadata": {},
   "outputs": [
    {
     "name": "stdout",
     "output_type": "stream",
     "text": [
      "7/7 [==============================] - 0s 2ms/step - loss: 0.0075 - accuracy: 0.9949\n"
     ]
    }
   ],
   "source": [
    "test_loss, test_accuracy = model.evaluate(test_inputs, test_targets)"
   ]
  },
  {
   "cell_type": "code",
   "execution_count": 11,
   "metadata": {
    "scrolled": true
   },
   "outputs": [
    {
     "name": "stdout",
     "output_type": "stream",
     "text": [
      "Test Loss: 0.02. Test Accuracy: 99.49%\n"
     ]
    }
   ],
   "source": [
    "print('Test Loss: {0:.2f}. Test Accuracy: {1:.2f}%'.format(test_loss, test_accuracy*100.))"
   ]
  },
  {
   "cell_type": "markdown",
   "metadata": {},
   "source": [
    "## Additional Comments"
   ]
  },
  {
   "cell_type": "markdown",
   "metadata": {},
   "source": [
    "Used the test data to validate the training data considering the small size of the dataset."
   ]
  }
 ],
 "metadata": {
  "kernelspec": {
   "display_name": "Python [conda env:py3-TF2.0]",
   "language": "python",
   "name": "conda-env-py3-TF2.0-py"
  },
  "language_info": {
   "codemirror_mode": {
    "name": "ipython",
    "version": 3
   },
   "file_extension": ".py",
   "mimetype": "text/x-python",
   "name": "python",
   "nbconvert_exporter": "python",
   "pygments_lexer": "ipython3",
   "version": "3.7.7"
  }
 },
 "nbformat": 4,
 "nbformat_minor": 2
}
